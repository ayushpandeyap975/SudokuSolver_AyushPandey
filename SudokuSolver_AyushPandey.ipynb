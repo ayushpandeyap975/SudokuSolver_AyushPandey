{
  "nbformat": 4,
  "nbformat_minor": 0,
  "metadata": {
    "colab": {
      "provenance": []
    },
    "kernelspec": {
      "name": "python3",
      "display_name": "Python 3"
    },
    "language_info": {
      "name": "python"
    }
  },
  "cells": [
    {
      "cell_type": "code",
      "source": [
        "def get_sudoku_input():\n",
        "    print(\"Enter your Sudoku puzzle, row by row (use 0 for empty cells):\")\n",
        "    board = []\n",
        "    for i in range(9):\n",
        "        row = list(map(int, input(f\"Row {i + 1}: \").split()))\n",
        "        if len(row) != 9:\n",
        "            print(\"Each row must have exactly 9 numbers. Try again.\")\n",
        "            return get_sudoku_input()  # Restart input if invalid\n",
        "        board.append(row)\n",
        "    return board\n",
        "\n",
        "def is_valid(board, row, col, num):\n",
        "    for i in range(9):\n",
        "        if board[row][i] == num or board[i][col] == num:\n",
        "            return False\n",
        "        if board[3 * (row // 3) + i // 3][3 * (col // 3) + i % 3] == num:\n",
        "            return False\n",
        "    return True\n",
        "\n",
        "def solve_sudoku(board):\n",
        "    for row in range(9):\n",
        "        for col in range(9):\n",
        "            if board[row][col] == 0:\n",
        "                for num in range(1, 10):\n",
        "                    if is_valid(board, row, col, num):\n",
        "                        board[row][col] = num\n",
        "                        if solve_sudoku(board):\n",
        "                            return True\n",
        "                        board[row][col] = 0\n",
        "                return False\n",
        "    return True\n",
        "\n",
        "def print_board(board):\n",
        "    for row in board:\n",
        "        print(\" \".join(str(cell) if cell != 0 else \".\" for cell in row))\n",
        "\n",
        "# Take input from the user\n",
        "sudoku_board = get_sudoku_input()\n",
        "\n",
        "# Solve the puzzle and display the result\n",
        "if solve_sudoku(sudoku_board):\n",
        "    print(\"\\nSolved Sudoku:\")\n",
        "    print_board(sudoku_board)\n",
        "else:\n",
        "    print(\"\\nNo solution exists.\")\n"
      ],
      "metadata": {
        "colab": {
          "base_uri": "https://localhost:8080/"
        },
        "id": "HRoiO4zzhjND",
        "outputId": "09ff1072-46bd-470f-a79c-8ac363d52a23"
      },
      "execution_count": 4,
      "outputs": [
        {
          "output_type": "stream",
          "name": "stdout",
          "text": [
            "Enter your Sudoku puzzle, row by row (use 0 for empty cells):\n",
            "Row 1: 5 3 0 0 7 0 0 0 0\n",
            "Row 2: 6 0 0 1 9 5  0 0 0\n",
            "Row 3: 0 9 8 0 0 0 0 6 0\n",
            "Row 4: 8 0 0 0 6 0 0 0 3\n",
            "Row 5: 4 0 0 8 0 3 0 0 1\n",
            "Row 6: 7 0 0 0 2 0 0 0 6\n",
            "Row 7: 0 6 0 0 0 0 2 8 0\n",
            "Row 8: 0 0 0 4 1 9 0 0 5\n",
            "Row 9: 0 0 0 0 8 0 0 7 9\n",
            "\n",
            "Solved Sudoku:\n",
            "5 3 4 6 7 8 9 1 2\n",
            "6 7 2 1 9 5 3 4 8\n",
            "1 9 8 3 4 2 5 6 7\n",
            "8 5 9 7 6 1 4 2 3\n",
            "4 2 6 8 5 3 7 9 1\n",
            "7 1 3 9 2 4 8 5 6\n",
            "9 6 1 5 3 7 2 8 4\n",
            "2 8 7 4 1 9 6 3 5\n",
            "3 4 5 2 8 6 1 7 9\n"
          ]
        }
      ]
    },
    {
      "cell_type": "code",
      "source": [],
      "metadata": {
        "id": "34_Io9bdilJ3"
      },
      "execution_count": null,
      "outputs": []
    }
  ]
}